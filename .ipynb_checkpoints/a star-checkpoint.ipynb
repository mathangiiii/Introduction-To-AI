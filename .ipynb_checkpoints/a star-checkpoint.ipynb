{
 "cells": [
  {
   "cell_type": "code",
   "execution_count": 1,
   "id": "725acf7e",
   "metadata": {},
   "outputs": [
    {
     "name": "stdout",
     "output_type": "stream",
     "text": [
      "Path: ['A', 'B', 'D', 'E', 'F']\n"
     ]
    },
    {
     "data": {
      "text/plain": [
       "['A', 'B', 'D', 'E', 'F']"
      ]
     },
     "execution_count": 1,
     "metadata": {},
     "output_type": "execute_result"
    }
   ],
   "source": [
    "#a star\n",
    "import heapq\n",
    "\n",
    "def astar(initial, goal):\n",
    "    explored = set()\n",
    "    frontier = [(0, initial)]  # Priority queue: (total_cost, node)\n",
    "    cost = {initial: 0}\n",
    "    parent = {initial: initial}\n",
    "    \n",
    "    while frontier:\n",
    "        _, n = heapq.heappop(frontier)  # Get node with the lowest total cost\n",
    "        \n",
    "        if n == goal or graph.get(n) is None:\n",
    "            break\n",
    "        \n",
    "        if n in explored:\n",
    "            continue\n",
    "        \n",
    "        explored.add(n)\n",
    "        \n",
    "        for (child, weight) in get_child(n):\n",
    "            new_cost = cost[n] + weight\n",
    "            if child not in cost or new_cost < cost[child]:\n",
    "                cost[child] = new_cost\n",
    "                priority = new_cost + heuristic(child)\n",
    "                heapq.heappush(frontier, (priority, child))\n",
    "                parent[child] = n\n",
    "    \n",
    "    if n != goal:\n",
    "        print('Path does not exist')\n",
    "        return None\n",
    "    \n",
    "    path = []\n",
    "    while parent[n] != n:\n",
    "        path.append(n)\n",
    "        n = parent[n]\n",
    "    path.append(initial)\n",
    "    path.reverse()\n",
    "    print('Path: {}'.format(path))\n",
    "    return path\n",
    "\n",
    "def get_child(v):\n",
    "    return graph.get(v, [])\n",
    "\n",
    "def heuristic(n):\n",
    "    H_dist = {\n",
    "        'A': 100,\n",
    "        'B': 50,\n",
    "        'C': 110,\n",
    "        'D': 10,\n",
    "        'E': 11,\n",
    "        'F': 0,\n",
    "\n",
    "    }\n",
    "    return H_dist[n]\n",
    "\n",
    "graph = {\n",
    "    'A': [('B', 2), ('C', 16)],\n",
    "    'B': [('D', 3)],\n",
    "    'C': [('B', 15), ('E', 42)],\n",
    "    'D': [('C', 12),('E', 3)],\n",
    "    'E': [('A',28),('F', 4)],\n",
    "   \n",
    "}\n",
    "\n",
    "astar('A', 'F')"
   ]
  },
  {
   "cell_type": "code",
   "execution_count": 2,
   "id": "b5593043",
   "metadata": {},
   "outputs": [
    {
     "ename": "NameError",
     "evalue": "name 'nodes' is not defined",
     "output_type": "error",
     "traceback": [
      "\u001b[1;31m---------------------------------------------------------------------------\u001b[0m",
      "\u001b[1;31mNameError\u001b[0m                                 Traceback (most recent call last)",
      "Cell \u001b[1;32mIn[2], line 3\u001b[0m\n\u001b[0;32m      1\u001b[0m \u001b[38;5;28;01mimport\u001b[39;00m \u001b[38;5;21;01mnetworkx\u001b[39;00m \u001b[38;5;28;01mas\u001b[39;00m \u001b[38;5;21;01mnx\u001b[39;00m\n\u001b[0;32m      2\u001b[0m g1 \u001b[38;5;241m=\u001b[39m nx\u001b[38;5;241m.\u001b[39mDiGraph()\n\u001b[1;32m----> 3\u001b[0m g1\u001b[38;5;241m.\u001b[39madd_nodes_from(nodes)\n\u001b[0;32m      4\u001b[0m g1\u001b[38;5;241m.\u001b[39madd_weighted_edges_from(edges)\n\u001b[0;32m      5\u001b[0m weight \u001b[38;5;241m=\u001b[39m nx\u001b[38;5;241m.\u001b[39mget_edge_attributes(g1,\u001b[38;5;124m'\u001b[39m\u001b[38;5;124mweight\u001b[39m\u001b[38;5;124m'\u001b[39m)\n",
      "\u001b[1;31mNameError\u001b[0m: name 'nodes' is not defined"
     ]
    }
   ],
   "source": [
    "import networkx as nx\n",
    "g1 = nx.DiGraph()\n",
    "g1.add_nodes_from(nodes)\n",
    "g1.add_weighted_edges_from(edges)\n",
    "weight = nx.get_edge_attributes(g1,'weight')\n",
    "nx.draw(g1,pos= nx.shell_layout(g1),with_labels= True)\n",
    "nx.draw_networkx_edge_labels(g1,pos= nx.shell_layout(g1),edge_labels= weight)\n"
   ]
  },
  {
   "cell_type": "code",
   "execution_count": null,
   "id": "8b7ebe27",
   "metadata": {},
   "outputs": [],
   "source": []
  }
 ],
 "metadata": {
  "kernelspec": {
   "display_name": "Python 3 (ipykernel)",
   "language": "python",
   "name": "python3"
  },
  "language_info": {
   "codemirror_mode": {
    "name": "ipython",
    "version": 3
   },
   "file_extension": ".py",
   "mimetype": "text/x-python",
   "name": "python",
   "nbconvert_exporter": "python",
   "pygments_lexer": "ipython3",
   "version": "3.11.4"
  }
 },
 "nbformat": 4,
 "nbformat_minor": 5
}
