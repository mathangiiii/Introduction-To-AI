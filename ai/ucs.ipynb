{
 "cells": [
  {
   "cell_type": "code",
   "execution_count": 1,
   "id": "84bc17d4",
   "metadata": {},
   "outputs": [
    {
     "name": "stdout",
     "output_type": "stream",
     "text": [
      "Uniform Cost Search: \n",
      "A B E C D G "
     ]
    }
   ],
   "source": [
    "#ucs\n",
    "import networkx as nx\n",
    "weighted_graph={\n",
    "    'A': [('B',1),('C',4)],\n",
    "    'B': [('D',3),('E',2)],\n",
    "    'C': [('F',5),('G',1)],\n",
    "    'D': [],\n",
    "    'E': [],\n",
    "    'F': [],\n",
    "    'G': [],\n",
    "}\n",
    "\n",
    "explored = set()\n",
    "\n",
    "def ucs(explored, weighted_graph, current_state, goal_state):\n",
    "    frontier = [(0, current_state)]  \n",
    "    while frontier:\n",
    "        frontier.sort() \n",
    "        cost, state = frontier.pop(0)\n",
    "        if state not in explored:\n",
    "            explored.add(state)\n",
    "            print(state, end=\" \")\n",
    "            if state == goal_state:\n",
    "                return True\n",
    "            for neighbor, weight in weighted_graph[state]:\n",
    "                frontier.append((cost + weight, neighbor))\n",
    "    return False\n",
    "\n",
    "def uniform_cost_search(weighted_graph, initial_state, goal_state):\n",
    "    print(\"Uniform Cost Search: \")\n",
    "    ucs(explored, weighted_graph, initial_state, goal_state)\n",
    "\n",
    "\n",
    "uniform_cost_search(weighted_graph, 'A', 'G')\n"
   ]
  },
  {
   "cell_type": "code",
   "execution_count": 2,
   "id": "2f593c14",
   "metadata": {},
   "outputs": [
    {
     "ename": "NameError",
     "evalue": "name 'nodes' is not defined",
     "output_type": "error",
     "traceback": [
      "\u001b[1;31m---------------------------------------------------------------------------\u001b[0m",
      "\u001b[1;31mNameError\u001b[0m                                 Traceback (most recent call last)",
      "Cell \u001b[1;32mIn[2], line 3\u001b[0m\n\u001b[0;32m      1\u001b[0m \u001b[38;5;28;01mimport\u001b[39;00m \u001b[38;5;21;01mnetworkx\u001b[39;00m \u001b[38;5;28;01mas\u001b[39;00m \u001b[38;5;21;01mnx\u001b[39;00m\n\u001b[0;32m      2\u001b[0m g1 \u001b[38;5;241m=\u001b[39m nx\u001b[38;5;241m.\u001b[39mDiGraph()\n\u001b[1;32m----> 3\u001b[0m g1\u001b[38;5;241m.\u001b[39madd_nodes_from(nodes)\n\u001b[0;32m      4\u001b[0m g1\u001b[38;5;241m.\u001b[39madd_weighted_edges_from(edges)\n\u001b[0;32m      5\u001b[0m weight \u001b[38;5;241m=\u001b[39m nx\u001b[38;5;241m.\u001b[39mget_edge_attributes(g1,\u001b[38;5;124m'\u001b[39m\u001b[38;5;124mweight\u001b[39m\u001b[38;5;124m'\u001b[39m)\n",
      "\u001b[1;31mNameError\u001b[0m: name 'nodes' is not defined"
     ]
    }
   ],
   "source": [
    "import networkx as nx\n",
    "g1 = nx.DiGraph()\n",
    "g1.add_nodes_from(nodes)\n",
    "g1.add_weighted_edges_from(edges)\n",
    "weight = nx.get_edge_attributes(g1,'weight')\n",
    "nx.draw(g1,pos= nx.shell_layout(g1),with_labels= True)\n",
    "nx.draw_networkx_edge_labels(g1,pos= nx.shell_layout(g1),edge_labels= weight)\n"
   ]
  },
  {
   "cell_type": "code",
   "execution_count": null,
   "id": "dad476b6",
   "metadata": {},
   "outputs": [],
   "source": []
  }
 ],
 "metadata": {
  "kernelspec": {
   "display_name": "Python 3 (ipykernel)",
   "language": "python",
   "name": "python3"
  },
  "language_info": {
   "codemirror_mode": {
    "name": "ipython",
    "version": 3
   },
   "file_extension": ".py",
   "mimetype": "text/x-python",
   "name": "python",
   "nbconvert_exporter": "python",
   "pygments_lexer": "ipython3",
   "version": "3.11.4"
  }
 },
 "nbformat": 4,
 "nbformat_minor": 5
}
