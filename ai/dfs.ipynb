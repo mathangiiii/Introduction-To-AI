{
 "cells": [
  {
   "cell_type": "code",
   "execution_count": null,
   "id": "b13eae96",
   "metadata": {},
   "outputs": [],
   "source": [
    "#Depth First Search\n",
    "def dfsUtil(graph,i,visited,ans):\n",
    "    visited[i] = True\n",
    "    ans.append(i)\n",
    "    for adj in graph[i]:\n",
    "        if visited[adj] == False:\n",
    "            dfsUtil(graph,adj,visited,ans)\n",
    "    \n",
    "def dfs(graph):\n",
    "    V= len(graph)\n",
    "    ans = []\n",
    "    visited = {\n",
    "    'S':False ,\n",
    "    'A':False ,\n",
    "    'B':False ,\n",
    "    'C':False ,\n",
    "    'G':False}\n",
    "    for i in visited.keys():\n",
    "        if visited[i] == False:\n",
    "            dfsUtil(graph,i,visited,ans)\n",
    "    print('->'.join(ans))  \n",
    "dfs(graph)    \n",
    "\n",
    "#graph visualisation\n",
    "import networkx as nx\n",
    "nodes = ['S','A','B','C','G']\n",
    "graph = {\n",
    "    'S':['A','B','C'],\n",
    "    'A':['S','G'] ,\n",
    "    'B':['S','G'] ,\n",
    "    'C':['S','G'] ,\n",
    "    'G':['A','B','C']\n",
    "}\n",
    "G=nx.Graph()\n",
    "for key in graph.keys():\n",
    "    for i in range(len(graph[key])):\n",
    "        G.add_edge(key,graph[key][i])\n",
    "nx.draw(G,with_labels=True)                   "
   ]
  }
 ],
 "metadata": {
  "kernelspec": {
   "display_name": "Python 3 (ipykernel)",
   "language": "python",
   "name": "python3"
  },
  "language_info": {
   "codemirror_mode": {
    "name": "ipython",
    "version": 3
   },
   "file_extension": ".py",
   "mimetype": "text/x-python",
   "name": "python",
   "nbconvert_exporter": "python",
   "pygments_lexer": "ipython3",
   "version": "3.11.4"
  }
 },
 "nbformat": 4,
 "nbformat_minor": 5
}
