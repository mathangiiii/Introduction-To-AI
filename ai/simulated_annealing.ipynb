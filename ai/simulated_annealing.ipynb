{
 "cells": [
  {
   "cell_type": "code",
   "execution_count": 1,
   "id": "894d4d0b",
   "metadata": {},
   "outputs": [
    {
     "name": "stdout",
     "output_type": "stream",
     "text": [
      "\n",
      "Best Solution: [165.42142162707805, 475.8705844230375]\n",
      "Best Cost: 253817.05985224678\n"
     ]
    }
   ],
   "source": [
    "import math\n",
    "import random\n",
    "\n",
    "# Define the function to be minimized\n",
    "def fcost(sol):\n",
    "    return sum([i**2 for i in sol])\n",
    "\n",
    "# Generate a new solution by adding a random number between -step and step to each element of the current solution\n",
    "def successors(sol, step=1.0):\n",
    "    succ = [x + random.uniform(-step, step) for x in sol]#  -step <= x <= step\n",
    "    return succ\n",
    "\n",
    "# Implement the simulated annealing algorithm and return the best solution found and its cost\n",
    "'''\n",
    "nitSol, which is the initial solution; \n",
    "initTemp, which is the initial temperature; \n",
    "alpha, which is the cooling rate; \n",
    "iters, which is the number of iterations\n",
    "'''\n",
    "def simAnnealing(initSol, initTemp, alpha, iters):\n",
    "    currSol = initSol\n",
    "    cost = fcost(currSol)\n",
    "    sol = currSol\n",
    "    minCost = cost\n",
    "    temp = initTemp\n",
    "\n",
    "    for iteration in range(iters):\n",
    "        neighbor = successors(currSol)\n",
    "        ncost = fcost(neighbor)\n",
    "\n",
    "        costdiff = ncost - cost\n",
    "\n",
    "        if costdiff < 0 or random.random() < math.exp(-costdiff / temp):\n",
    "            currSol = neighbor\n",
    "            cost = ncost\n",
    "\n",
    "            if cost < minCost:\n",
    "                sol = currSol\n",
    "                minCost = cost\n",
    "\n",
    "        temp *= alpha\n",
    "\n",
    "    return sol, minCost\n",
    "\n",
    "\n",
    "# Set the initial values for the simulated annealing algorithm\n",
    "initSol = [200.0, 600.0]\n",
    "initTemp = 1000.0\n",
    "alpha = 0.95\n",
    "iters = 500\n",
    "\n",
    "# Find the best solution using simulated annealing and print the result\n",
    "bestSol, cost = simAnnealing(\n",
    "    initSol, initTemp, alpha, iters)\n",
    "\n",
    "print(\"\\nBest Solution:\", bestSol)\n",
    "print(\"Best Cost:\", cost)\n"
   ]
  },
  {
   "cell_type": "code",
   "execution_count": null,
   "id": "60268292",
   "metadata": {},
   "outputs": [],
   "source": []
  }
 ],
 "metadata": {
  "kernelspec": {
   "display_name": "Python 3 (ipykernel)",
   "language": "python",
   "name": "python3"
  },
  "language_info": {
   "codemirror_mode": {
    "name": "ipython",
    "version": 3
   },
   "file_extension": ".py",
   "mimetype": "text/x-python",
   "name": "python",
   "nbconvert_exporter": "python",
   "pygments_lexer": "ipython3",
   "version": "3.11.4"
  }
 },
 "nbformat": 4,
 "nbformat_minor": 5
}
