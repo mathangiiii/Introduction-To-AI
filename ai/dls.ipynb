{
 "cells": [
  {
   "cell_type": "code",
   "execution_count": null,
   "id": "4f778cae",
   "metadata": {},
   "outputs": [],
   "source": [
    "#graph visualisation\n",
    "import networkx as nx\n",
    "nodes = ['S','A','B','C','G']\n",
    "graph = {\n",
    "    'S':['A','B','C'],\n",
    "    'A':['S','G'] ,\n",
    "    'B':['S','G'] ,\n",
    "    'C':['S','G'] ,\n",
    "    'G':['A','B','C']\n",
    "}\n",
    "G=nx.Graph()\n",
    "for key in graph.keys():\n",
    "    for i in range(len(graph[key])):\n",
    "        G.add_edge(key,graph[key][i])\n",
    "nx.draw(G,with_labels=True)   \n"
   ]
  },
  {
   "cell_type": "code",
   "execution_count": 1,
   "id": "a11b5a41",
   "metadata": {},
   "outputs": [
    {
     "name": "stdout",
     "output_type": "stream",
     "text": [
      "DLS: \n",
      "a b d e h i c f g "
     ]
    }
   ],
   "source": [
    "#Depth Limited Search\n",
    "graph = {\n",
    "    'a': ['b','c'],\n",
    "    'b': ['d','e'],\n",
    "    'c': ['f','g'],\n",
    "    'd': [],\n",
    "    'e': ['h','i'],\n",
    "    'f': [],\n",
    "    'g': [],\n",
    "    'h': [],\n",
    "    'i': []}\n",
    "#dls\n",
    "explored = set()\n",
    "def dls1(explored, graph, crnt_state,goal_state,limit):\n",
    "    if crnt_state == goal_state:\n",
    "        print(crnt_state,end=\" \")\n",
    "        return True\n",
    "    if crnt_state not in explored:\n",
    "        print(crnt_state,end=\" \")\n",
    "        explored.add(crnt_state)\n",
    "        if limit >= 0:\n",
    "            found_goal = False\n",
    "            for adj in graph[crnt_state]:\n",
    "                if dls1(explored,graph,adj,goal_state,limit-1):\n",
    "                    found_goal = True\n",
    "                    break\n",
    "            return found_goal        \n",
    "    return False        \n",
    "def depth_limited_srch1(graph,crnt_state,goal_state,limit):\n",
    "    print(\"DLS: \")\n",
    "    if dls1(explored,graph,crnt_state,goal_state,limit) == False:\n",
    "        print(\"Goal not found\")\n",
    "        \n",
    "depth_limited_srch1(graph,'a','g',2)        "
   ]
  },
  {
   "cell_type": "code",
   "execution_count": null,
   "id": "45d74f26",
   "metadata": {},
   "outputs": [],
   "source": []
  }
 ],
 "metadata": {
  "kernelspec": {
   "display_name": "Python 3 (ipykernel)",
   "language": "python",
   "name": "python3"
  },
  "language_info": {
   "codemirror_mode": {
    "name": "ipython",
    "version": 3
   },
   "file_extension": ".py",
   "mimetype": "text/x-python",
   "name": "python",
   "nbconvert_exporter": "python",
   "pygments_lexer": "ipython3",
   "version": "3.11.4"
  }
 },
 "nbformat": 4,
 "nbformat_minor": 5
}
