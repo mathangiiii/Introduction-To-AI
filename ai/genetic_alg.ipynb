{
 "cells": [
  {
   "cell_type": "code",
   "execution_count": 1,
   "id": "05a4d705",
   "metadata": {},
   "outputs": [],
   "source": [
    "import random\n",
    "\n",
    "def mutate(board1, board2):#2 strings \n",
    "    b1 = list(board1)#\"1234\"--['1','2','3','4']\n",
    "    b2 = list(board2)\n",
    "\n",
    "    x = random.randint(0, 7)\n",
    "    b1[x], b2[x] = b2[x], b1[x]#swap that positons\n",
    "    y = random.randint(0, 7)\n",
    "    b1[y] = str(int(y)+1)#make b[y] = y+1\n",
    "    \n",
    "    return (''.join(b1), ''.join(b2))\n",
    "\n",
    "\n",
    "def crossover(board1, board2):\n",
    "    x = random.randint(1, 7)\n",
    "    b1 = list(board1)\n",
    "    b2 = list(board2)\n",
    "    b1[0:x], b2[0:x] = b2[0:x], b1[0:x] #swaps until 0 t0 x-1\n",
    "    return (''.join(b1), ''.join(b2))\n",
    "\n",
    "\n",
    "def fitness(board):\n",
    "    attacks = 0\n",
    "    for i in range(8):\n",
    "        for j in range(i+1, 8):\n",
    "            if board[i] == board[j] or abs(int(board[i]) - int(board[j])) == j-i:\n",
    "                attacks += 1\n",
    "\n",
    "    return attacks\n",
    "#abs function is used to calculate the absolute difference between two integers.\n",
    "#if statement checks if two queens are on the same column or diagonal\n",
    "#by comparing their column positions and their row positions using the abs \n",
    "#function. If two queens have the same column position or their absolute \n",
    "#difference in column positions equals\n",
    "#their absolute difference in row positions, they are attacking each other.\n",
    "\n",
    "#no of gen,list of 2 candidates as strings\n",
    "def geneticAlgo(generations, initialPopulation):\n",
    "\n",
    "    i = 0#ith genration\n",
    "    pq = []#empty priority queue\n",
    "    #list of tuples, where each tuple contains a fitness \n",
    "    #score and a candidate solution.\n",
    "    pq.append((fitness(initialPopulation[0]), initialPopulation[0]))\n",
    "    pq.append((fitness(initialPopulation[1]), initialPopulation[1]))\n",
    "    while i < generations:\n",
    "        f1, b1 = pq.pop(0)\n",
    "        f2, b2 = pq.pop(0)\n",
    "        pq.clear()\n",
    "\n",
    "        if f1 == 0:\n",
    "            print('\\nGoal State :', b1, '\\nGeneration :', i+1)\n",
    "            return\n",
    "        elif f2 == 0:\n",
    "            print('\\nGoal State :', b2, '\\nGeneration :', i+1)\n",
    "            return\n",
    "        ''' it applies crossover and mutation operators to generate four new \n",
    "        candidate solutions. It then evaluates the fitness scores of each\n",
    "        new solution using the fitness function and adds them to the priority queue.'''\n",
    "        x1, x2 = crossover(b1, b2)\n",
    "        x3, x4 = crossover(b2, b1)\n",
    "        \n",
    "        newPopulation = [(x1, x2), (x3, x4), mutate(x1, x2), mutate(x2, x1)]\n",
    "        \n",
    "        for child in newPopulation:\n",
    "            pq.append((fitness(child[0]), child[0]))\n",
    "            pq.append((fitness(child[1]), child[1]))\n",
    "        #Finally, it adds back the two original candidate solutions to the priority queue \n",
    "        #and sorts it based on fitness scores using a lambda function. \n",
    "        pq.append((f1, b1))\n",
    "        pq.append((f2, b2))\n",
    "\n",
    "        pq.sort(key=lambda x: x[0])\n",
    "\n",
    "        i += 1#completed another generation.\n",
    "\n",
    "    print('\\nMost evolved state :',\n",
    "          pq[0][1], '\\nGeneration :', i, '\\nAttacks :', pq[0][0])\n"
   ]
  },
  {
   "cell_type": "code",
   "execution_count": 2,
   "id": "10c2c6b3",
   "metadata": {},
   "outputs": [
    {
     "name": "stdout",
     "output_type": "stream",
     "text": [
      "\n",
      "Most evolved state : 24748552 \n",
      "Generation : 1000 \n",
      "Attacks : 4\n",
      "\n",
      "Most evolved state : 17581263 \n",
      "Generation : 1000 \n",
      "Attacks : 3\n"
     ]
    }
   ],
   "source": [
    "geneticAlgo(1000, [\"32752411\", \"24748552\"])\n",
    "\n",
    "geneticAlgo(1000, [\"17581234\", \"56782463\"])"
   ]
  },
  {
   "cell_type": "code",
   "execution_count": null,
   "id": "ce903f26",
   "metadata": {},
   "outputs": [],
   "source": []
  }
 ],
 "metadata": {
  "kernelspec": {
   "display_name": "Python 3 (ipykernel)",
   "language": "python",
   "name": "python3"
  },
  "language_info": {
   "codemirror_mode": {
    "name": "ipython",
    "version": 3
   },
   "file_extension": ".py",
   "mimetype": "text/x-python",
   "name": "python",
   "nbconvert_exporter": "python",
   "pygments_lexer": "ipython3",
   "version": "3.11.4"
  }
 },
 "nbformat": 4,
 "nbformat_minor": 5
}
