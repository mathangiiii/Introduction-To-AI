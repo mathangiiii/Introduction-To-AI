{
 "cells": [
  {
   "cell_type": "code",
   "execution_count": 1,
   "id": "ff093c00",
   "metadata": {},
   "outputs": [
    {
     "name": "stdout",
     "output_type": "stream",
     "text": [
      "4\n"
     ]
    }
   ],
   "source": [
    "#Alpha Beta Pruning\n",
    "graph = {\n",
    "    'a':['b','c'],\n",
    "    'b':['d','e'],\n",
    "    'c':['f','g'],\n",
    "    'd':[4,8],\n",
    "    'e':[9,3],\n",
    "    'f':[2,-2],\n",
    "    'g':[9,1]\n",
    "}\n",
    "\n",
    "def alphabeta(graph,top,m):\n",
    "  a,b = float(\"-inf\"), float(\"inf\")\n",
    "  def recfun(ele,a,b,m):\n",
    "    if str(ele).isnumeric():\n",
    "      if m: return (ele,float(\"inf\"))\n",
    "      else: return (ele,float(\"-inf\"))\n",
    "    ta,tb = a,b\n",
    "    for elei in graph[ele]:\n",
    "      if ta>=tb:break\n",
    "      x,y = recfun(elei,ta,tb,not(m))\n",
    "      if m: ta = max(ta,x,y)\n",
    "      else: tb = min(tb,x,y)\n",
    "    return (ta,tb)\n",
    "  ans = recfun(top,a,b,m)\n",
    "  if m == False:\n",
    "      print(ans[1])\n",
    "  else:\n",
    "      print(ans[0])\n",
    "\n",
    "alphabeta(graph,'b',True)"
   ]
  },
  {
   "cell_type": "code",
   "execution_count": null,
   "id": "8c5cd122",
   "metadata": {},
   "outputs": [],
   "source": []
  }
 ],
 "metadata": {
  "kernelspec": {
   "display_name": "Python 3 (ipykernel)",
   "language": "python",
   "name": "python3"
  },
  "language_info": {
   "codemirror_mode": {
    "name": "ipython",
    "version": 3
   },
   "file_extension": ".py",
   "mimetype": "text/x-python",
   "name": "python",
   "nbconvert_exporter": "python",
   "pygments_lexer": "ipython3",
   "version": "3.11.4"
  }
 },
 "nbformat": 4,
 "nbformat_minor": 5
}
