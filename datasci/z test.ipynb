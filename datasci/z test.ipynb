{
 "cells": [
  {
   "cell_type": "code",
   "execution_count": 1,
   "id": "8b113368",
   "metadata": {},
   "outputs": [
    {
     "name": "stdout",
     "output_type": "stream",
     "text": [
      "meanp: 147.16\n",
      "zscore: -0.24767\n",
      "pvalue: 0.80439\n",
      "accept null hypothesis\n"
     ]
    }
   ],
   "source": [
    "# z test\n",
    "import scipy.stats\n",
    "h = [160, 139, 153, 147, 154, 165, 151, 145, 155,\n",
    "     135, 159,138, 152, 150, 145, 182, 140, 146, 148,\n",
    "     122, 120, 139, 139, 139, 156]\n",
    "s1 = []\n",
    "\n",
    "for x in h:\n",
    "    if x % 5 == 0:\n",
    "        s1.append(x)\n",
    "\n",
    "sum_h = sum(h)\n",
    "N = len(h)\n",
    "meanp = sum_h / N\n",
    "print(f\"meanp: {meanp}\")\n",
    "\n",
    "num = 0\n",
    "for x in h:\n",
    "    num += (x - meanp) ** 2\n",
    "sdp = (num / N) ** 0.5\n",
    "\n",
    "def zscore(sample, sdp, meanp):\n",
    "    n = len(sample)\n",
    "    s = sum(sample)\n",
    "    means = s / n\n",
    "    zscore = (means - meanp) / (sdp / (n ** 0.5))\n",
    "    return zscore\n",
    "\n",
    "alpha = 0.05\n",
    "\n",
    "def ztest(s):\n",
    "    zscore1 = zscore(s, sdp, meanp)\n",
    "    pvalue1 = 2 * (1 - scipy.stats.norm.cdf(abs(zscore1)))\n",
    "    print(f\"zscore: {zscore1:.5f}\")\n",
    "    print(f\"pvalue: {pvalue1:.5f}\")\n",
    "    if pvalue1 > alpha:\n",
    "        print(\"accept null hypothesis\")\n",
    "    else:\n",
    "        print(\"reject null hypothesis\")\n",
    "\n",
    "ztest(s1)\n"
   ]
  },
  {
   "cell_type": "code",
   "execution_count": null,
   "id": "be0a5745",
   "metadata": {},
   "outputs": [],
   "source": []
  }
 ],
 "metadata": {
  "kernelspec": {
   "display_name": "Python 3 (ipykernel)",
   "language": "python",
   "name": "python3"
  },
  "language_info": {
   "codemirror_mode": {
    "name": "ipython",
    "version": 3
   },
   "file_extension": ".py",
   "mimetype": "text/x-python",
   "name": "python",
   "nbconvert_exporter": "python",
   "pygments_lexer": "ipython3",
   "version": "3.11.4"
  }
 },
 "nbformat": 4,
 "nbformat_minor": 5
}
