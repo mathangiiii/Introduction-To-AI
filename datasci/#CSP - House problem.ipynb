{
 "cells": [
  {
   "cell_type": "code",
   "execution_count": 1,
   "id": "4d85c621",
   "metadata": {},
   "outputs": [
    {
     "name": "stdout",
     "output_type": "stream",
     "text": [
      "House : a \tLocation : 2\n",
      "House : b \tLocation : 3\n",
      "House : c \tLocation : 4\n",
      "House : d \tLocation : 1\n"
     ]
    }
   ],
   "source": [
    "#CSP - House problem\n",
    "def check(assign, loc):\n",
    "    if assign['c']!=-1 and assign['d']!=-1 :\n",
    "        if assign['c']<assign['d'] :\n",
    "            return False \n",
    "    \n",
    "    if assign['d']!=-1 and assign['a']!=-1 :\n",
    "        if assign['a']-assign['d']!=1 :\n",
    "            return False\n",
    "        \n",
    "    if assign['d']!=-1 and assign['b']!=-1 :\n",
    "        if abs(assign['d']-assign['b'])==1 :\n",
    "            return False\n",
    "        \n",
    "    if assign['c']!=-1 :\n",
    "        if assign['c']==3 :\n",
    "            return False \n",
    "    \n",
    "    if assign['b']!=-1 :\n",
    "        if assign['b']==1 :\n",
    "            return False \n",
    "        \n",
    "    if loc in assign.values() :\n",
    "        return False\n",
    "    \n",
    "    return True\n",
    "\n",
    "\n",
    "def get_house(assign):\n",
    "    for node in assign :\n",
    "        if assign[node]==-1 :\n",
    "            return node\n",
    "\n",
    "def isGoal(assign):\n",
    "    return check(assign,-1)\n",
    "\n",
    "\n",
    "def backtrack(assign) :\n",
    "    locs = [1,2,3,4]\n",
    "    return rec_backtrack(assign, locs)\n",
    "    \n",
    "\n",
    "\n",
    "def rec_backtrack(assign, locs):\n",
    "    if isGoal(assign) :\n",
    "        return assign\n",
    "    \n",
    "    house = get_house(assign)\n",
    "\n",
    "    for loc in locs :\n",
    "        if check(assign, loc) :\n",
    "            assign[house] = loc \n",
    "            res = rec_backtrack(assign, locs)\n",
    "            if res :\n",
    "                return res \n",
    "            assign[house] = -1\n",
    "            \n",
    "    return None\n",
    "    \n",
    "\n",
    "assign = {\n",
    "    'a':-1,\n",
    "    'b':-1,\n",
    "    'c':-1,\n",
    "    'd':-1\n",
    "}\n",
    "\n",
    "sol = backtrack(assign)\n",
    "\n",
    "if sol:\n",
    "    for node in sol:\n",
    "        print('House :', node, '\\tLocation :', sol[node])\n",
    "else:\n",
    "    print(\"No solution exists.\")\n"
   ]
  },
  {
   "cell_type": "code",
   "execution_count": null,
   "id": "a630c7b6",
   "metadata": {},
   "outputs": [],
   "source": []
  }
 ],
 "metadata": {
  "kernelspec": {
   "display_name": "Python 3 (ipykernel)",
   "language": "python",
   "name": "python3"
  },
  "language_info": {
   "codemirror_mode": {
    "name": "ipython",
    "version": 3
   },
   "file_extension": ".py",
   "mimetype": "text/x-python",
   "name": "python",
   "nbconvert_exporter": "python",
   "pygments_lexer": "ipython3",
   "version": "3.11.4"
  }
 },
 "nbformat": 4,
 "nbformat_minor": 5
}
