{
 "cells": [
  {
   "cell_type": "code",
   "execution_count": 2,
   "id": "5123de7f",
   "metadata": {},
   "outputs": [
    {
     "name": "stdout",
     "output_type": "stream",
     "text": [
      "Sample =  [20, 12, 20, 16, 32, 40, 20, 24, 32, 20, 36, 40, 44, 48, 48, 44]\n",
      "Sum of the sample =  496\n",
      "Mean of the sample =  31\n",
      "Sample square =  [400, 144, 400, 256, 1024, 1600, 400, 576, 1024, 400, 1296, 1600, 1936, 2304, 2304, 1936]\n",
      "SS =  2224.0\n",
      "s =  12.18\n",
      "s x-bar =  3.04\n",
      "Mean of the population =  28.54\n",
      "t value =  0.81\n",
      "Degree of freedom =  15\n",
      "p value =  0.22\n",
      "Hypothesis accepted\n"
     ]
    }
   ],
   "source": [
    "#T test\n",
    "\n",
    "pop = [3,20,3,3,13,5,13,12,20,15,29,16,32,30,25,40,17,23,45,50,19,20,23,25,24,15,32,30,15,20,33,35,25,36,35,34,37,38,39,40,44,42,34,46,48,48,44,42,41,49]\n",
    "\n",
    "import statistics\n",
    "import math as m\n",
    "from scipy import stats\n",
    "\n",
    "sample = []\n",
    "for i in pop:\n",
    "    if i%4==0:\n",
    "        sample.append(i)\n",
    "print(\"Sample = \",sample)\n",
    "\n",
    "n = len(sample)\n",
    "sample_sum = sum(sample)\n",
    "print(\"Sum of the sample = \",sample_sum)\n",
    "\n",
    "sample_mean = statistics.mean(sample)\n",
    "sample_mean = round(sample_mean,2)\n",
    "print(\"Mean of the sample = \",sample_mean)\n",
    "\n",
    "sample_square = []\n",
    "for i in sample:\n",
    "    sqr = pow(i,2)\n",
    "    sample_square.append(sqr)\n",
    "print(\"Sample square = \",sample_square)\n",
    "\n",
    "sample_square_sum = sum(sample_square)\n",
    "ss = sample_square_sum - (pow(sample_sum,2)/n)\n",
    "ss = round(ss,2)\n",
    "print(\"SS = \",ss)\n",
    "\n",
    "s = m.sqrt(ss/(n-1))\n",
    "s = round(s,2)\n",
    "print(\"s = \",s)\n",
    "\n",
    "s_xbar = s/(m.sqrt(n))\n",
    "s_xbar = round(s_xbar,2)\n",
    "print(\"s x-bar = \",s_xbar)\n",
    "\n",
    "pop_mean = statistics.mean(pop)\n",
    "pop_mean = round(pop_mean,2)\n",
    "print(\"Mean of the population = \",pop_mean)\n",
    "\n",
    "t = (sample_mean - pop_mean)/s_xbar\n",
    "t = round(t, 2)\n",
    "print(\"t value = \",t)\n",
    "\n",
    "deg_of_freedom = n-1\n",
    "print(\"Degree of freedom = \",deg_of_freedom)\n",
    "alpha = 0.05\n",
    "\n",
    "p = 1 - stats.t.cdf(t,deg_of_freedom)\n",
    "p = round(p,2)\n",
    "print(\"p value = \",p)\n",
    "\n",
    "if p<alpha:\n",
    "    print(\"Hypothesis rejected\")\n",
    "else:\n",
    "    print(\"Hypothesis accepted\")"
   ]
  },
  {
   "cell_type": "code",
   "execution_count": null,
   "id": "53af8d56",
   "metadata": {},
   "outputs": [],
   "source": []
  }
 ],
 "metadata": {
  "kernelspec": {
   "display_name": "Python 3 (ipykernel)",
   "language": "python",
   "name": "python3"
  },
  "language_info": {
   "codemirror_mode": {
    "name": "ipython",
    "version": 3
   },
   "file_extension": ".py",
   "mimetype": "text/x-python",
   "name": "python",
   "nbconvert_exporter": "python",
   "pygments_lexer": "ipython3",
   "version": "3.11.4"
  }
 },
 "nbformat": 4,
 "nbformat_minor": 5
}
