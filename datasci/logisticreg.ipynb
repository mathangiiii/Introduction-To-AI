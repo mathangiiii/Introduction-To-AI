{
 "cells": [
  {
   "cell_type": "code",
   "execution_count": 2,
   "id": "3d9d0ecb",
   "metadata": {},
   "outputs": [
    {
     "name": "stdout",
     "output_type": "stream",
     "text": [
      "Enter the number of rows:3\n",
      "1x:1\n",
      "1y:2\n",
      "2x:2\n",
      "2y:3\n",
      "3x:3\n",
      "3y:4\n",
      "we can accept the model\n"
     ]
    }
   ],
   "source": [
    "#logistic regression\n",
    "#linear regression\n",
    "import math\n",
    "n =int(input('Enter the number of rows:'))\n",
    "x,y=[],[]\n",
    "for i in range(n):\n",
    "    xx=int(input(f\"{i+1}x:\"))\n",
    "    x.append(xx)\n",
    "    yy=int(input(f\"{i+1}y:\"))\n",
    "    y.append(yy)\n",
    "xsum=0\n",
    "for i in x:\n",
    "    xsum+=i\n",
    "xbar=xsum/n\n",
    "ysum=0\n",
    "for i in y:\n",
    "    ysum+=i\n",
    "ybar=ysum/n\n",
    "bxsum,bsquarex =0,0\n",
    "for i in range(n):\n",
    "    bxsum+=(x[i]-xbar)*(y[i]-ybar)\n",
    "    bsquarex+=(x[i]-xbar)**2\n",
    "b1 =bxsum/bsquarex\n",
    "#y=b0+b1x\n",
    "#b0=b1x-y\n",
    "b0=ybar- (b1*xbar)\n",
    "\n",
    "z = 0\n",
    "for i in range(n):\n",
    "    z1 = b0+ (b1*x[i])\n",
    "    z += z1\n",
    "    \n",
    "lr = 1 / (1+math.exp(-z)) \n",
    "\n",
    "if lr > 0.5:\n",
    "    print(\"we can accept the model\")\n",
    "else:\n",
    "    print(\"we cant accept the model\")\n"
   ]
  },
  {
   "cell_type": "code",
   "execution_count": null,
   "id": "b0de847f",
   "metadata": {},
   "outputs": [],
   "source": []
  }
 ],
 "metadata": {
  "kernelspec": {
   "display_name": "Python 3 (ipykernel)",
   "language": "python",
   "name": "python3"
  },
  "language_info": {
   "codemirror_mode": {
    "name": "ipython",
    "version": 3
   },
   "file_extension": ".py",
   "mimetype": "text/x-python",
   "name": "python",
   "nbconvert_exporter": "python",
   "pygments_lexer": "ipython3",
   "version": "3.11.4"
  }
 },
 "nbformat": 4,
 "nbformat_minor": 5
}
