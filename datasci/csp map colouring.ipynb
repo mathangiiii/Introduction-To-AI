{
 "cells": [
  {
   "cell_type": "code",
   "execution_count": 1,
   "id": "e35c87ca",
   "metadata": {},
   "outputs": [
    {
     "name": "stdout",
     "output_type": "stream",
     "text": [
      "Node : a \tColor : Red\n",
      "Node : b \tColor : Green\n",
      "Node : c \tColor : Blue\n",
      "Node : d \tColor : Blue\n",
      "Node : e \tColor : Red\n"
     ]
    }
   ],
   "source": [
    "#csp map colouring\n",
    "def check(node, color, sol, graph):\n",
    "    for neighbor in graph[node]:\n",
    "        if sol[neighbor] == color:\n",
    "            return False\n",
    "    return True\n",
    "\n",
    "\n",
    "def get_node(csp):\n",
    "    for node in csp:\n",
    "        if csp[node] == -1:\n",
    "            return node\n",
    "\n",
    "\n",
    "def isGoal(assign):\n",
    "    return all(val != -1 for val in assign.values())\n",
    "\n",
    "\n",
    "def backtrack(graph, colors):\n",
    "    assign = {node: -1 for node in graph}\n",
    "    sol = rec_backtrack(assign, graph, colors)\n",
    "    return sol\n",
    "\n",
    "\n",
    "def rec_backtrack(assign, graph, colors):\n",
    "    if isGoal(assign):\n",
    "        return assign\n",
    "\n",
    "    var = get_node(assign)\n",
    "    for index, color in enumerate(colors):\n",
    "        if check(var, index, assign, graph):\n",
    "            assign[var] = index\n",
    "            result = rec_backtrack(assign, graph, colors)\n",
    "            if result:\n",
    "                return result\n",
    "            assign[var] = -1\n",
    "\n",
    "    return None\n",
    "\n",
    "\n",
    "graph = {\n",
    "    'a':['b','c'],\n",
    "    'b':['a','c','d','e'],\n",
    "    'c':['b','e'],\n",
    "    'd':['a','b','e'],\n",
    "    'e':['b','c','d'],\n",
    "}\n",
    "\n",
    "colors = [\"Red\", \"Green\", \"Blue\"]\n",
    "sol = backtrack(graph, colors)\n",
    "\n",
    "if sol:\n",
    "    for node in sol:\n",
    "        print('Node :', node, '\\tColor :', colors[sol[node]])\n",
    "else:\n",
    "    print(\"No solution exists.\")"
   ]
  },
  {
   "cell_type": "code",
   "execution_count": null,
   "id": "3338d806",
   "metadata": {},
   "outputs": [],
   "source": []
  }
 ],
 "metadata": {
  "kernelspec": {
   "display_name": "Python 3 (ipykernel)",
   "language": "python",
   "name": "python3"
  },
  "language_info": {
   "codemirror_mode": {
    "name": "ipython",
    "version": 3
   },
   "file_extension": ".py",
   "mimetype": "text/x-python",
   "name": "python",
   "nbconvert_exporter": "python",
   "pygments_lexer": "ipython3",
   "version": "3.11.4"
  }
 },
 "nbformat": 4,
 "nbformat_minor": 5
}
