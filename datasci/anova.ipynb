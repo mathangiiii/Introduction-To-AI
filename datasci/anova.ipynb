{
 "cells": [
  {
   "cell_type": "code",
   "execution_count": 1,
   "id": "1d916180",
   "metadata": {},
   "outputs": [
    {
     "name": "stdout",
     "output_type": "stream",
     "text": [
      "8.7 8.6 8.5 8.6\n",
      "0.2\n",
      "Accept the null Hypothesis. There is no significant difference between the means of the samples\n"
     ]
    }
   ],
   "source": [
    "#anova\n",
    "import pandas as pd\n",
    "import numpy as np\n",
    "'''\n",
    "df = pd.read_csv(\"anova_data.csv\")\n",
    "df.head(10)\n",
    "A = df['A'].to_numpy()\n",
    "B = df['B'].to_numpy()\n",
    "C = df['C'].to_numpy()\n",
    "samples=[list(A),list(B),list(C)]\n",
    "population=[*A,*B,*C]\n",
    "population=np.array(population)\n",
    "'''\n",
    "a = [10,9,8,7.5,8.5,9,10,8,8,9]\n",
    "b = [8,9,10,8,8.5,7,9.5,9,7,10]\n",
    "c = [9,8,7,10,9,8,7,10,9,8]\n",
    "Population = [10,9,8,7.5,8.5,9,10,8,8,9,8,9,10,8,8.5,7,9.5,9,7,10,9,8,7,10,9,8,7,10,9,8]\n",
    "A = np.array(a)\n",
    "B = np.array(b)\n",
    "C = np.array(c)\n",
    "samples = [A,B,C]\n",
    "population = np.array(Population)\n",
    "\n",
    "#sample and population mean\n",
    "mean_A=A.mean()\n",
    "mean_B=B.mean()\n",
    "mean_C=C.mean()\n",
    "mean_P=population.mean()\n",
    "all_mean=[mean_A,mean_B,mean_C]\n",
    "print(mean_A,mean_B,mean_C,mean_P)\n",
    "\n",
    "#function to find variance between\n",
    "def variance_bw(S,all_mean,P):\n",
    "    var=0\n",
    "    for i in range(len(S)):\n",
    "        n=len(S[i])\n",
    "        var=var+n*((all_mean[i]-P)**2)\n",
    "    return (round(var,2))\n",
    "print(variance_bw(samples,all_mean,mean_P))\n",
    "\n",
    "#function to find variance within\n",
    "def variance_within(S,all_mean):\n",
    "    sum=0\n",
    "    for i in range(len(S)):\n",
    "        var=0\n",
    "        for j in S[i]:\n",
    "            var=var+(j-all_mean[i])**2\n",
    "        sum=sum+round(var,1)\n",
    "    return sum\n",
    "variance_within(samples,all_mean)\n",
    "\n",
    "#anova calculation\n",
    "var_bw = variance_bw(samples,all_mean,mean_P)\n",
    "var_with = variance_within(samples,all_mean)\n",
    "anova=round(var_bw/var_with,3)\n",
    "\n",
    "\n",
    "#conclusion\n",
    "if anova<1:\n",
    "    print(\"Accept the null Hypothesis. There is no significant difference between the means of the samples\")\n",
    "else:\n",
    "    print(\"Reject the null hypothesis. There is significant difference between the means of the samples\")\n"
   ]
  },
  {
   "cell_type": "code",
   "execution_count": null,
   "id": "6545548f",
   "metadata": {},
   "outputs": [],
   "source": []
  }
 ],
 "metadata": {
  "kernelspec": {
   "display_name": "Python 3 (ipykernel)",
   "language": "python",
   "name": "python3"
  },
  "language_info": {
   "codemirror_mode": {
    "name": "ipython",
    "version": 3
   },
   "file_extension": ".py",
   "mimetype": "text/x-python",
   "name": "python",
   "nbconvert_exporter": "python",
   "pygments_lexer": "ipython3",
   "version": "3.11.4"
  }
 },
 "nbformat": 4,
 "nbformat_minor": 5
}
