{
 "cells": [
  {
   "cell_type": "code",
   "execution_count": 3,
   "id": "c91c19a9",
   "metadata": {},
   "outputs": [
    {
     "name": "stdout",
     "output_type": "stream",
     "text": [
      "Enter the number of rows:3\n",
      "1x:1\n",
      "1y:2\n",
      "2x:3\n",
      "2y:5\n",
      "3x:4\n",
      "3y:6\n",
      "we cant accept the model\n"
     ]
    }
   ],
   "source": [
    "#linear regression\n",
    "import math as m\n",
    "n =int(input('Enter the number of rows:'))\n",
    "x,y=[],[]\n",
    "for i in range(n):\n",
    "    xx=int(input(f\"{i+1}x:\"))\n",
    "    x.append(xx)\n",
    "    yy=int(input(f\"{i+1}y:\"))\n",
    "    y.append(yy)\n",
    "xsum=0\n",
    "for i in x:\n",
    "    xsum+=i\n",
    "xbar=xsum/n\n",
    "ysum=0\n",
    "for i in y:\n",
    "    ysum+=i\n",
    "ybar=ysum/n\n",
    "bxsum,bsquarex =0,0\n",
    "for i in range(n):\n",
    "    bxsum+=(x[i]-xbar)*(y[i]-ybar)\n",
    "    bsquarex+=(x[i]-xbar)**2\n",
    "b1 =bxsum/bsquarex\n",
    "#y=b0+b1x\n",
    "#b0=b1x-y\n",
    "b0=(b1*xbar)-ybar\n",
    "ycap=[]\n",
    "for i in range(n):\n",
    "    ycapp=b0+(b1*x[i])\n",
    "    ycap.append(ycapp)\n",
    "s=0\n",
    "for i in range(n):\n",
    "    s+=(ycap[i]-y[i])**2\n",
    "stderr = m.sqrt(s/(n-2))\n",
    "if stderr>=1:\n",
    "    print(\"we cant accept the model\")\n",
    "else:\n",
    "    print(\"we can accept the model\")\n"
   ]
  }
 ],
 "metadata": {
  "kernelspec": {
   "display_name": "Python 3 (ipykernel)",
   "language": "python",
   "name": "python3"
  },
  "language_info": {
   "codemirror_mode": {
    "name": "ipython",
    "version": 3
   },
   "file_extension": ".py",
   "mimetype": "text/x-python",
   "name": "python",
   "nbconvert_exporter": "python",
   "pygments_lexer": "ipython3",
   "version": "3.11.4"
  }
 },
 "nbformat": 4,
 "nbformat_minor": 5
}
